{
 "cells": [
  {
   "cell_type": "code",
   "execution_count": 1,
   "id": "13a790df",
   "metadata": {},
   "outputs": [],
   "source": [
    "%load_ext autoreload\n",
    "%autoreload 2"
   ]
  },
  {
   "cell_type": "code",
   "execution_count": 2,
   "id": "fe56f472",
   "metadata": {},
   "outputs": [],
   "source": [
    "import pymongo\n",
    "from src.oltp_construction import *"
   ]
  },
  {
   "cell_type": "code",
   "execution_count": null,
   "id": "230cffa6",
   "metadata": {},
   "outputs": [],
   "source": [
    "build_db()"
   ]
  },
  {
   "cell_type": "code",
   "execution_count": 3,
   "id": "069aec61",
   "metadata": {},
   "outputs": [],
   "source": [
    "client = pymongo.MongoClient()"
   ]
  },
  {
   "cell_type": "code",
   "execution_count": 4,
   "id": "d535af13",
   "metadata": {},
   "outputs": [
    {
     "data": {
      "text/plain": [
       "['admin', 'config', 'dota', 'local']"
      ]
     },
     "execution_count": 4,
     "metadata": {},
     "output_type": "execute_result"
    }
   ],
   "source": [
    "client.list_database_names()"
   ]
  },
  {
   "cell_type": "code",
   "execution_count": 5,
   "id": "149e607e",
   "metadata": {},
   "outputs": [],
   "source": [
    "db1 = client.get_database('dota')"
   ]
  },
  {
   "cell_type": "code",
   "execution_count": 6,
   "id": "f102c76d",
   "metadata": {},
   "outputs": [
    {
     "data": {
      "text/plain": [
       "['matches']"
      ]
     },
     "execution_count": 6,
     "metadata": {},
     "output_type": "execute_result"
    }
   ],
   "source": [
    "db1.list_collection_names()"
   ]
  },
  {
   "cell_type": "code",
   "execution_count": 7,
   "id": "a2f5357e",
   "metadata": {},
   "outputs": [],
   "source": [
    "collection1 = db1['matches']"
   ]
  },
  {
   "cell_type": "code",
   "execution_count": null,
   "id": "29c9a2d7",
   "metadata": {},
   "outputs": [],
   "source": [
    "collection1.estimated_document_count()"
   ]
  },
  {
   "cell_type": "code",
   "execution_count": null,
   "id": "c31bda6f",
   "metadata": {},
   "outputs": [],
   "source": [
    "collection1.index_information()"
   ]
  },
  {
   "cell_type": "code",
   "execution_count": null,
   "id": "958c4b04",
   "metadata": {},
   "outputs": [],
   "source": [
    "print('finished!')"
   ]
  }
 ],
 "metadata": {
  "kernelspec": {
   "display_name": "Python 3",
   "language": "python",
   "name": "python3"
  },
  "language_info": {
   "codemirror_mode": {
    "name": "ipython",
    "version": 3
   },
   "file_extension": ".py",
   "mimetype": "text/x-python",
   "name": "python",
   "nbconvert_exporter": "python",
   "pygments_lexer": "ipython3",
   "version": "3.8.8"
  }
 },
 "nbformat": 4,
 "nbformat_minor": 5
}
