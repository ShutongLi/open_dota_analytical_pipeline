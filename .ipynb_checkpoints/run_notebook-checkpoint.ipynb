{
 "cells": [
  {
   "cell_type": "code",
   "execution_count": 124,
   "id": "99502e1f",
   "metadata": {},
   "outputs": [
    {
     "name": "stdout",
     "output_type": "stream",
     "text": [
      "The autoreload extension is already loaded. To reload it, use:\n",
      "  %reload_ext autoreload\n"
     ]
    }
   ],
   "source": [
    "import pymongo\n",
    "from src.oltp_construction import *\n",
    "from src.olap_transformation import *\n",
    "import pandas as pd\n",
    "%load_ext autoreload\n",
    "%autoreload 2"
   ]
  },
  {
   "cell_type": "code",
   "execution_count": 31,
   "id": "215514cd",
   "metadata": {},
   "outputs": [],
   "source": [
    "# build_db()"
   ]
  },
  {
   "cell_type": "code",
   "execution_count": 32,
   "id": "b97f17d4",
   "metadata": {},
   "outputs": [],
   "source": [
    "client = pymongo.MongoClient()"
   ]
  },
  {
   "cell_type": "code",
   "execution_count": 33,
   "id": "01158067",
   "metadata": {},
   "outputs": [
    {
     "data": {
      "text/plain": [
       "['admin', 'config', 'dota', 'local', 'sakila']"
      ]
     },
     "execution_count": 33,
     "metadata": {},
     "output_type": "execute_result"
    }
   ],
   "source": [
    "client.list_database_names()"
   ]
  },
  {
   "cell_type": "code",
   "execution_count": 34,
   "id": "26a7486a",
   "metadata": {},
   "outputs": [],
   "source": [
    "db1 = client.get_database('dota')"
   ]
  },
  {
   "cell_type": "code",
   "execution_count": 35,
   "id": "23e0e50f",
   "metadata": {},
   "outputs": [],
   "source": [
    "collection1 = db1['matches']"
   ]
  },
  {
   "cell_type": "code",
   "execution_count": 36,
   "id": "79a7d431",
   "metadata": {},
   "outputs": [
    {
     "data": {
      "text/plain": [
       "500032"
      ]
     },
     "execution_count": 36,
     "metadata": {},
     "output_type": "execute_result"
    }
   ],
   "source": [
    "collection1.estimated_document_count()"
   ]
  },
  {
   "cell_type": "markdown",
   "id": "933867f0",
   "metadata": {},
   "source": [
    "project match statistics"
   ]
  },
  {
   "cell_type": "code",
   "execution_count": 38,
   "id": "51f68b29",
   "metadata": {
    "scrolled": true
   },
   "outputs": [
    {
     "name": "stdout",
     "output_type": "stream",
     "text": [
      "new document match_stat.csv created\n",
      "finished writing\n"
     ]
    },
    {
     "data": {
      "text/html": [
       "<div>\n",
       "<style scoped>\n",
       "    .dataframe tbody tr th:only-of-type {\n",
       "        vertical-align: middle;\n",
       "    }\n",
       "\n",
       "    .dataframe tbody tr th {\n",
       "        vertical-align: top;\n",
       "    }\n",
       "\n",
       "    .dataframe thead th {\n",
       "        text-align: right;\n",
       "    }\n",
       "</style>\n",
       "<table border=\"1\" class=\"dataframe\">\n",
       "  <thead>\n",
       "    <tr style=\"text-align: right;\">\n",
       "      <th></th>\n",
       "      <th>match_id</th>\n",
       "      <th>radiant_win</th>\n",
       "      <th>start_time</th>\n",
       "      <th>duration</th>\n",
       "      <th>tower_status_radiant</th>\n",
       "      <th>tower_status_dire</th>\n",
       "      <th>barracks_status_radiant</th>\n",
       "      <th>barracks_status_dire</th>\n",
       "      <th>first_blood_time</th>\n",
       "    </tr>\n",
       "  </thead>\n",
       "  <tbody>\n",
       "    <tr>\n",
       "      <th>0</th>\n",
       "      <td>2001400694</td>\n",
       "      <td>True</td>\n",
       "      <td>1450069239</td>\n",
       "      <td>898</td>\n",
       "      <td>2047</td>\n",
       "      <td>2046</td>\n",
       "      <td>63</td>\n",
       "      <td>63</td>\n",
       "      <td>83</td>\n",
       "    </tr>\n",
       "    <tr>\n",
       "      <th>1</th>\n",
       "      <td>2001394362</td>\n",
       "      <td>True</td>\n",
       "      <td>1450068932</td>\n",
       "      <td>1390</td>\n",
       "      <td>1983</td>\n",
       "      <td>256</td>\n",
       "      <td>63</td>\n",
       "      <td>48</td>\n",
       "      <td>2</td>\n",
       "    </tr>\n",
       "    <tr>\n",
       "      <th>2</th>\n",
       "      <td>2001390473</td>\n",
       "      <td>False</td>\n",
       "      <td>1450068753</td>\n",
       "      <td>1569</td>\n",
       "      <td>0</td>\n",
       "      <td>2047</td>\n",
       "      <td>0</td>\n",
       "      <td>63</td>\n",
       "      <td>143</td>\n",
       "    </tr>\n",
       "    <tr>\n",
       "      <th>3</th>\n",
       "      <td>2001390318</td>\n",
       "      <td>True</td>\n",
       "      <td>1450068725</td>\n",
       "      <td>1630</td>\n",
       "      <td>2047</td>\n",
       "      <td>256</td>\n",
       "      <td>63</td>\n",
       "      <td>48</td>\n",
       "      <td>1</td>\n",
       "    </tr>\n",
       "    <tr>\n",
       "      <th>4</th>\n",
       "      <td>2001389600</td>\n",
       "      <td>True</td>\n",
       "      <td>1450068704</td>\n",
       "      <td>1093</td>\n",
       "      <td>2047</td>\n",
       "      <td>388</td>\n",
       "      <td>63</td>\n",
       "      <td>51</td>\n",
       "      <td>138</td>\n",
       "    </tr>\n",
       "  </tbody>\n",
       "</table>\n",
       "</div>"
      ],
      "text/plain": [
       "     match_id  radiant_win  start_time  duration  tower_status_radiant  \\\n",
       "0  2001400694         True  1450069239       898                  2047   \n",
       "1  2001394362         True  1450068932      1390                  1983   \n",
       "2  2001390473        False  1450068753      1569                     0   \n",
       "3  2001390318         True  1450068725      1630                  2047   \n",
       "4  2001389600         True  1450068704      1093                  2047   \n",
       "\n",
       "   tower_status_dire  barracks_status_radiant  barracks_status_dire  \\\n",
       "0               2046                       63                    63   \n",
       "1                256                       63                    48   \n",
       "2               2047                        0                    63   \n",
       "3                256                       63                    48   \n",
       "4                388                       63                    51   \n",
       "\n",
       "   first_blood_time  \n",
       "0                83  \n",
       "1                 2  \n",
       "2               143  \n",
       "3                 1  \n",
       "4               138  "
      ]
     },
     "metadata": {},
     "output_type": "display_data"
    }
   ],
   "source": [
    "subset_match_stat(client, lmt = 5000)"
   ]
  },
  {
   "cell_type": "code",
   "execution_count": 50,
   "id": "0c333a9d",
   "metadata": {},
   "outputs": [
    {
     "name": "stdout",
     "output_type": "stream",
     "text": [
      "new document chat.csv created\n",
      "finished writing\n"
     ]
    },
    {
     "data": {
      "text/html": [
       "<div>\n",
       "<style scoped>\n",
       "    .dataframe tbody tr th:only-of-type {\n",
       "        vertical-align: middle;\n",
       "    }\n",
       "\n",
       "    .dataframe tbody tr th {\n",
       "        vertical-align: top;\n",
       "    }\n",
       "\n",
       "    .dataframe thead th {\n",
       "        text-align: right;\n",
       "    }\n",
       "</style>\n",
       "<table border=\"1\" class=\"dataframe\">\n",
       "  <thead>\n",
       "    <tr style=\"text-align: right;\">\n",
       "      <th></th>\n",
       "      <th>match_id</th>\n",
       "      <th>start_time</th>\n",
       "      <th>time</th>\n",
       "      <th>key</th>\n",
       "    </tr>\n",
       "  </thead>\n",
       "  <tbody>\n",
       "    <tr>\n",
       "      <th>0</th>\n",
       "      <td>2001400694</td>\n",
       "      <td>1450069239</td>\n",
       "      <td>289</td>\n",
       "      <td>EZ</td>\n",
       "    </tr>\n",
       "    <tr>\n",
       "      <th>1</th>\n",
       "      <td>2001400694</td>\n",
       "      <td>1450069239</td>\n",
       "      <td>872</td>\n",
       "      <td>: (</td>\n",
       "    </tr>\n",
       "    <tr>\n",
       "      <th>2</th>\n",
       "      <td>2001400694</td>\n",
       "      <td>1450069239</td>\n",
       "      <td>891</td>\n",
       "      <td>fuck my team</td>\n",
       "    </tr>\n",
       "    <tr>\n",
       "      <th>3</th>\n",
       "      <td>2001394362</td>\n",
       "      <td>1450068932</td>\n",
       "      <td>1391</td>\n",
       "      <td>gg</td>\n",
       "    </tr>\n",
       "    <tr>\n",
       "      <th>4</th>\n",
       "      <td>2001394362</td>\n",
       "      <td>1450068932</td>\n",
       "      <td>1391</td>\n",
       "      <td>gg</td>\n",
       "    </tr>\n",
       "  </tbody>\n",
       "</table>\n",
       "</div>"
      ],
      "text/plain": [
       "     match_id  start_time  time           key\n",
       "0  2001400694  1450069239   289            EZ\n",
       "1  2001400694  1450069239   872           : (\n",
       "2  2001400694  1450069239   891  fuck my team\n",
       "3  2001394362  1450068932  1391            gg\n",
       "4  2001394362  1450068932  1391            gg"
      ]
     },
     "metadata": {},
     "output_type": "display_data"
    }
   ],
   "source": [
    "subset_chat(client, lmt = 5000)"
   ]
  },
  {
   "cell_type": "markdown",
   "id": "560abb27",
   "metadata": {},
   "source": []
  },
  {
   "cell_type": "code",
   "execution_count": 89,
   "id": "9351590c",
   "metadata": {},
   "outputs": [],
   "source": [
    "projection3 = {'players':1, 'radiant_win':1, '_id':0}"
   ]
  },
  {
   "cell_type": "code",
   "execution_count": 71,
   "id": "30ea4989",
   "metadata": {},
   "outputs": [],
   "source": []
  },
  {
   "cell_type": "code",
   "execution_count": 90,
   "id": "bb5f4119",
   "metadata": {},
   "outputs": [],
   "source": [
    "cursor3 = collection1.find({}, projection3).limit(1)\n",
    "doc = None\n",
    "for d in cursor3:\n",
    "    doc = d"
   ]
  },
  {
   "cell_type": "code",
   "execution_count": 108,
   "id": "b72b8114",
   "metadata": {},
   "outputs": [],
   "source": [
    "df = pd.DataFrame(doc['players'])\n",
    "df['radiant_win'] = doc['radiant_win']\n",
    "df = df[['hero_id', 'player_slot','radiant_win']]"
   ]
  },
  {
   "cell_type": "code",
   "execution_count": 110,
   "id": "259bf6a3",
   "metadata": {},
   "outputs": [],
   "source": [
    "def calculate_victory(row):\n",
    "    if ((row['player_slot'] <= 127) and (row['radiant_win'])):\n",
    "        return 'w'\n",
    "    elif ((row['player_slot'] <= 127) and not (row['radiant_win'])):\n",
    "        return 'w'\n",
    "    else:\n",
    "        return 'l'"
   ]
  },
  {
   "cell_type": "code",
   "execution_count": 112,
   "id": "fb95d614",
   "metadata": {},
   "outputs": [],
   "source": [
    "df['match_result'] = df[['hero_id', 'player_slot','radiant_win']].apply(calculate_victory, axis=1)"
   ]
  },
  {
   "cell_type": "code",
   "execution_count": 117,
   "id": "ffacf779",
   "metadata": {},
   "outputs": [],
   "source": [
    "hero_stat = pd.DataFrame([], columns=[i+1 for i in range(113)])"
   ]
  },
  {
   "cell_type": "code",
   "execution_count": 118,
   "id": "f3579318",
   "metadata": {},
   "outputs": [
    {
     "data": {
      "text/html": [
       "<div>\n",
       "<style scoped>\n",
       "    .dataframe tbody tr th:only-of-type {\n",
       "        vertical-align: middle;\n",
       "    }\n",
       "\n",
       "    .dataframe tbody tr th {\n",
       "        vertical-align: top;\n",
       "    }\n",
       "\n",
       "    .dataframe thead th {\n",
       "        text-align: right;\n",
       "    }\n",
       "</style>\n",
       "<table border=\"1\" class=\"dataframe\">\n",
       "  <thead>\n",
       "    <tr style=\"text-align: right;\">\n",
       "      <th></th>\n",
       "      <th>1</th>\n",
       "      <th>2</th>\n",
       "      <th>3</th>\n",
       "      <th>4</th>\n",
       "      <th>5</th>\n",
       "      <th>6</th>\n",
       "      <th>7</th>\n",
       "      <th>8</th>\n",
       "      <th>9</th>\n",
       "      <th>10</th>\n",
       "      <th>...</th>\n",
       "      <th>104</th>\n",
       "      <th>105</th>\n",
       "      <th>106</th>\n",
       "      <th>107</th>\n",
       "      <th>108</th>\n",
       "      <th>109</th>\n",
       "      <th>110</th>\n",
       "      <th>111</th>\n",
       "      <th>112</th>\n",
       "      <th>113</th>\n",
       "    </tr>\n",
       "  </thead>\n",
       "  <tbody>\n",
       "  </tbody>\n",
       "</table>\n",
       "<p>0 rows × 113 columns</p>\n",
       "</div>"
      ],
      "text/plain": [
       "Empty DataFrame\n",
       "Columns: [1, 2, 3, 4, 5, 6, 7, 8, 9, 10, 11, 12, 13, 14, 15, 16, 17, 18, 19, 20, 21, 22, 23, 24, 25, 26, 27, 28, 29, 30, 31, 32, 33, 34, 35, 36, 37, 38, 39, 40, 41, 42, 43, 44, 45, 46, 47, 48, 49, 50, 51, 52, 53, 54, 55, 56, 57, 58, 59, 60, 61, 62, 63, 64, 65, 66, 67, 68, 69, 70, 71, 72, 73, 74, 75, 76, 77, 78, 79, 80, 81, 82, 83, 84, 85, 86, 87, 88, 89, 90, 91, 92, 93, 94, 95, 96, 97, 98, 99, 100, ...]\n",
       "Index: []\n",
       "\n",
       "[0 rows x 113 columns]"
      ]
     },
     "execution_count": 118,
     "metadata": {},
     "output_type": "execute_result"
    }
   ],
   "source": [
    "hero_stat"
   ]
  },
  {
   "cell_type": "code",
   "execution_count": 122,
   "id": "53ba7443",
   "metadata": {},
   "outputs": [
    {
     "data": {
      "text/html": [
       "<div>\n",
       "<style scoped>\n",
       "    .dataframe tbody tr th:only-of-type {\n",
       "        vertical-align: middle;\n",
       "    }\n",
       "\n",
       "    .dataframe tbody tr th {\n",
       "        vertical-align: top;\n",
       "    }\n",
       "\n",
       "    .dataframe thead th {\n",
       "        text-align: right;\n",
       "    }\n",
       "</style>\n",
       "<table border=\"1\" class=\"dataframe\">\n",
       "  <thead>\n",
       "    <tr style=\"text-align: right;\">\n",
       "      <th></th>\n",
       "      <th>1</th>\n",
       "      <th>2</th>\n",
       "      <th>3</th>\n",
       "      <th>4</th>\n",
       "      <th>5</th>\n",
       "      <th>6</th>\n",
       "      <th>7</th>\n",
       "      <th>8</th>\n",
       "      <th>9</th>\n",
       "      <th>10</th>\n",
       "      <th>...</th>\n",
       "      <th>104</th>\n",
       "      <th>105</th>\n",
       "      <th>106</th>\n",
       "      <th>107</th>\n",
       "      <th>108</th>\n",
       "      <th>109</th>\n",
       "      <th>110</th>\n",
       "      <th>111</th>\n",
       "      <th>112</th>\n",
       "      <th>113</th>\n",
       "    </tr>\n",
       "  </thead>\n",
       "  <tbody>\n",
       "    <tr>\n",
       "      <th>0</th>\n",
       "      <td>NaN</td>\n",
       "      <td>NaN</td>\n",
       "      <td>NaN</td>\n",
       "      <td>NaN</td>\n",
       "      <td>NaN</td>\n",
       "      <td>NaN</td>\n",
       "      <td>NaN</td>\n",
       "      <td>NaN</td>\n",
       "      <td>NaN</td>\n",
       "      <td>NaN</td>\n",
       "      <td>...</td>\n",
       "      <td>NaN</td>\n",
       "      <td>NaN</td>\n",
       "      <td>w</td>\n",
       "      <td>NaN</td>\n",
       "      <td>NaN</td>\n",
       "      <td>NaN</td>\n",
       "      <td>NaN</td>\n",
       "      <td>NaN</td>\n",
       "      <td>NaN</td>\n",
       "      <td>NaN</td>\n",
       "    </tr>\n",
       "  </tbody>\n",
       "</table>\n",
       "<p>1 rows × 113 columns</p>\n",
       "</div>"
      ],
      "text/plain": [
       "   1    2    3    4    5    6    7    8    9    10   ...  104  105 106  107  \\\n",
       "0  NaN  NaN  NaN  NaN  NaN  NaN  NaN  NaN  NaN  NaN  ...  NaN  NaN   w  NaN   \n",
       "\n",
       "   108  109  110  111  112  113  \n",
       "0  NaN  NaN  NaN  NaN  NaN  NaN  \n",
       "\n",
       "[1 rows x 113 columns]"
      ]
     },
     "execution_count": 122,
     "metadata": {},
     "output_type": "execute_result"
    }
   ],
   "source": [
    "hero_stat.append(df.set_index('hero_id')['match_result'].to_dict(), ignore_index=True)"
   ]
  },
  {
   "cell_type": "code",
   "execution_count": 127,
   "id": "5fa8e044",
   "metadata": {},
   "outputs": [
    {
     "name": "stdout",
     "output_type": "stream",
     "text": [
      "new document hero_performance.csv created\n",
      "{50: 'l', 100: 'l', 43: 'l', 102: 'l', 59: 'l', 74: 'w', 26: 'w', 0: 'w', 29: 'w'}\n",
      "{75: 'w', 35: 'w', 47: 'w', 2: 'w', 31: 'w', 0: 'l', 78: 'l', 52: 'l', 42: 'l', 56: 'l'}\n",
      "{0: 'l', 15: 'l', 7: 'l', 94: 'l', 71: 'l', 104: 'w', 59: 'w', 40: 'w', 69: 'w', 44: 'w'}\n",
      "{30: 'l', 106: 'l', 11: 'l', 0: 'l', 61: 'l', 51: 'w', 26: 'w', 39: 'w', 100: 'w', 42: 'w'}\n",
      "{17: 'w', 15: 'w', 29: 'w', 79: 'w', 87: 'w', 50: 'l', 1: 'l', 74: 'l', 0: 'l', 55: 'l'}\n",
      "{0: 'l'}\n",
      "{25: 'w', 38: 'w', 1: 'w', 0: 'w', 35: 'w', 12: 'l', 104: 'l', 93: 'l', 5: 'l', 96: 'l'}\n",
      "{21: 'l', 42: 'l', 38: 'l', 68: 'l', 112: 'l', 69: 'w', 100: 'w', 74: 'w', 72: 'w', 0: 'w'}\n",
      "{11: 'w', 86: 'w', 72: 'w', 75: 'w', 85: 'w', 26: 'l', 94: 'l', 96: 'l', 0: 'l', 93: 'l'}\n",
      "{48: 'w', 19: 'w', 68: 'w', 112: 'w', 7: 'w', 15: 'l', 0: 'l', 91: 'l', 11: 'l', 51: 'l'}\n",
      "{25: 'w', 7: 'w', 50: 'w', 100: 'w', 28: 'w', 0: 'l', 19: 'l', 12: 'l', 68: 'l', 96: 'l'}\n",
      "{17: 'l', 0: 'w', 97: 'w', 28: 'w', 11: 'w'}\n",
      "{0: 'l', 28: 'l', 45: 'l', 3: 'l', 23: 'l', 40: 'w', 37: 'w', 16: 'w', 47: 'w', 42: 'w'}\n",
      "{0: 'l'}\n",
      "{6: 'l', 0: 'l', 48: 'l', 99: 'l', 47: 'l', 8: 'w', 4: 'w', 86: 'w', 7: 'w', 44: 'w'}\n",
      "{11: 'w', 21: 'w', 26: 'w', 112: 'w', 8: 'w', 0: 'l', 38: 'l'}\n"
     ]
    }
   ],
   "source": [
    "record_hero_performance(client, lmt=5000)"
   ]
  },
  {
   "cell_type": "code",
   "execution_count": null,
   "id": "a1c7783d",
   "metadata": {},
   "outputs": [],
   "source": []
  }
 ],
 "metadata": {
  "kernelspec": {
   "display_name": "Python 3",
   "language": "python",
   "name": "python3"
  },
  "language_info": {
   "codemirror_mode": {
    "name": "ipython",
    "version": 3
   },
   "file_extension": ".py",
   "mimetype": "text/x-python",
   "name": "python",
   "nbconvert_exporter": "python",
   "pygments_lexer": "ipython3",
   "version": "3.8.8"
  }
 },
 "nbformat": 4,
 "nbformat_minor": 5
}
