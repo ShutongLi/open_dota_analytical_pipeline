{
 "cells": [
  {
   "cell_type": "markdown",
   "id": "2e2ebd6d",
   "metadata": {},
   "source": [
    "#### data dictionary for confusing entries\n",
    "lobbytype_id: https://github.com/odota/dotaconstants/blob/master/json/lobby_type.json\n",
    "gamemode: https://github.com/odota/dotaconstants/blob/master/json/game_mode.json"
   ]
  },
  {
   "cell_type": "code",
   "execution_count": 31,
   "id": "12e7c424",
   "metadata": {},
   "outputs": [],
   "source": [
    "import gzip\n",
    "import pandas as pd\n",
    "import numpy as np\n",
    "import os\n",
    "import json\n",
    "import requests"
   ]
  },
  {
   "cell_type": "code",
   "execution_count": 2,
   "id": "cee6274a",
   "metadata": {},
   "outputs": [],
   "source": [
    "data_path = 'data/raw/yasp-dump-2015-12-18.json.gz'"
   ]
  },
  {
   "cell_type": "code",
   "execution_count": 3,
   "id": "10f65570",
   "metadata": {},
   "outputs": [],
   "source": [
    "fh = gzip.open(data_path, mode = 'rt')"
   ]
  },
  {
   "cell_type": "code",
   "execution_count": 6,
   "id": "2309a989",
   "metadata": {},
   "outputs": [],
   "source": [
    "sample_row = fh.readline()"
   ]
  },
  {
   "cell_type": "code",
   "execution_count": 14,
   "id": "d23e4a54",
   "metadata": {},
   "outputs": [
    {
     "data": {
      "text/plain": [
       "',\\n'"
      ]
     },
     "execution_count": 14,
     "metadata": {},
     "output_type": "execute_result"
    }
   ],
   "source": [
    "fh.readline()"
   ]
  },
  {
   "cell_type": "code",
   "execution_count": 10,
   "id": "aff66def",
   "metadata": {},
   "outputs": [],
   "source": [
    "sample_row_json = json.loads(sample_row)"
   ]
  },
  {
   "cell_type": "code",
   "execution_count": 29,
   "id": "7982428a",
   "metadata": {},
   "outputs": [
    {
     "data": {
      "text/plain": [
       "dict_keys(['match_id', 'match_seq_num', 'radiant_win', 'start_time', 'duration', 'tower_status_radiant', 'tower_status_dire', 'barracks_status_radiant', 'barracks_status_dire', 'cluster', 'first_blood_time', 'lobby_type', 'human_players', 'leagueid', 'positive_votes', 'negative_votes', 'game_mode', 'engine', 'picks_bans', 'parse_status', 'chat', 'objectives', 'radiant_gold_adv', 'radiant_xp_adv', 'teamfights', 'version', 'players'])"
      ]
     },
     "execution_count": 29,
     "metadata": {},
     "output_type": "execute_result"
    }
   ],
   "source": [
    "sample_row_json.keys()"
   ]
  },
  {
   "cell_type": "markdown",
   "id": "0bd94907",
   "metadata": {},
   "source": [
    "#### Data that we want\n",
    "**match_tables**:matchid, radiant_win, duration, 'start_time' (timestamp), first_blood_time, positive_votes, negative_votes, hero_of_player 0\\~9 (unpack from players)  \n",
    "**match_detail_tables**: matchid, start, end, deaths, player0\\~9(unpacked from players for every teamfight)  \n",
    "**match_chat_details**: matchid, player name (unit), message(key)"
   ]
  },
  {
   "cell_type": "code",
   "execution_count": 71,
   "id": "8bd2f138",
   "metadata": {},
   "outputs": [],
   "source": [
    "matches_rows = []\n",
    "chat_rows = []\n",
    "json_lines = []"
   ]
  },
  {
   "cell_type": "code",
   "execution_count": 72,
   "id": "e02693aa",
   "metadata": {
    "collapsed": true
   },
   "outputs": [
    {
     "name": "stdout",
     "output_type": "stream",
     "text": [
      "0\n",
      "0\n",
      "1\n",
      "1\n",
      "2\n",
      "2\n",
      "3\n",
      "3\n",
      "4\n",
      "4\n",
      "5\n",
      "5\n",
      "6\n",
      "6\n",
      "7\n",
      "7\n",
      "8\n",
      "8\n",
      "9\n",
      "9\n",
      "10\n",
      "10\n",
      "11\n",
      "11\n",
      "12\n",
      "12\n",
      "13\n",
      "13\n",
      "14\n",
      "14\n",
      "15\n",
      "15\n",
      "16\n",
      "16\n",
      "17\n",
      "17\n",
      "18\n",
      "18\n",
      "19\n",
      "19\n"
     ]
    }
   ],
   "source": [
    "counter = 0\n",
    "while counter < 20:\n",
    "#     print(counter)\n",
    "    line = fh.readline()\n",
    "    if line != ',\\n':\n",
    "        counter += 1\n",
    "        parsed_line = json.loads(line)\n",
    "\n",
    "        json_lines.append(parsed_line)"
   ]
  },
  {
   "cell_type": "code",
   "execution_count": null,
   "id": "7f8dbbe8",
   "metadata": {},
   "outputs": [],
   "source": []
  },
  {
   "cell_type": "code",
   "execution_count": null,
   "id": "f440d8cd",
   "metadata": {},
   "outputs": [],
   "source": [
    "def prepare_date(raw_data_path):\n",
    "    fh = gzip.open(raw_data_path, mode = 'rt')\n",
    "    while counter < 20:\n",
    "        print(couner)\n",
    "        line = fh.readline()\n",
    "        if line != ',\\n':\n",
    "            counter += 1\n",
    "            parsed_line = json.loads(line)\n",
    "\n",
    "            #for parsing match stats\n",
    "            row = {''}\n",
    "            matches_rows.append()"
   ]
  },
  {
   "cell_type": "code",
   "execution_count": 40,
   "id": "73948fb7",
   "metadata": {},
   "outputs": [],
   "source": []
  },
  {
   "cell_type": "code",
   "execution_count": null,
   "id": "a2f60cb1",
   "metadata": {},
   "outputs": [],
   "source": []
  }
 ],
 "metadata": {
  "kernelspec": {
   "display_name": "Python 3",
   "language": "python",
   "name": "python3"
  },
  "language_info": {
   "codemirror_mode": {
    "name": "ipython",
    "version": 3
   },
   "file_extension": ".py",
   "mimetype": "text/x-python",
   "name": "python",
   "nbconvert_exporter": "python",
   "pygments_lexer": "ipython3",
   "version": "3.8.8"
  }
 },
 "nbformat": 4,
 "nbformat_minor": 5
}
