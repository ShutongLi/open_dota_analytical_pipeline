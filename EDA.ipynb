{
 "cells": [
  {
   "cell_type": "markdown",
   "id": "2e2ebd6d",
   "metadata": {},
   "source": [
    "#### data dictionary for confusing entries\n",
    "lobbytype_id: https://github.com/odota/dotaconstants/blob/master/json/lobby_type.json  \n",
    "gamemode: https://github.com/odota/dotaconstants/blob/master/json/game_mode.json"
   ]
  },
  {
   "cell_type": "code",
   "execution_count": 1,
   "id": "dfc993ba",
   "metadata": {},
   "outputs": [],
   "source": [
    "import pymongo"
   ]
  },
  {
   "cell_type": "code",
   "execution_count": 2,
   "id": "12e7c424",
   "metadata": {},
   "outputs": [],
   "source": [
    "import gzip\n",
    "import pandas as pd\n",
    "import numpy as np\n",
    "import os\n",
    "import json\n",
    "import requests\n",
    "from sklearn.feature_extraction.text import TfidfVectorizer\n",
    "import matplotlib.pyplot as plt\n",
    "from wordcloud import WordCloud"
   ]
  },
  {
   "cell_type": "code",
   "execution_count": 3,
   "id": "ce16fb0b",
   "metadata": {},
   "outputs": [],
   "source": [
    "import matplotlib.pyplot as plt\n",
    "import seaborn as sns"
   ]
  },
  {
   "cell_type": "code",
   "execution_count": 4,
   "id": "cee6274a",
   "metadata": {},
   "outputs": [],
   "source": [
    "data_path = 'data/raw/yasp-dump-2015-12-18.json.gz'"
   ]
  },
  {
   "cell_type": "code",
   "execution_count": 15,
   "id": "aec810b5",
   "metadata": {},
   "outputs": [],
   "source": [
    "try:\n",
    "    client = pymongo.MongoClient()\n",
    "except:\n",
    "    print(\"connection to database failed\")"
   ]
  },
  {
   "cell_type": "code",
   "execution_count": 22,
   "id": "d2ca19f8",
   "metadata": {},
   "outputs": [
    {
     "data": {
      "text/plain": [
       "MongoClient(host=['localhost:27017'], document_class=dict, tz_aware=False, connect=True)"
      ]
     },
     "execution_count": 22,
     "metadata": {},
     "output_type": "execute_result"
    }
   ],
   "source": [
    "client"
   ]
  },
  {
   "cell_type": "code",
   "execution_count": 23,
   "id": "ba9526b2",
   "metadata": {},
   "outputs": [
    {
     "data": {
      "text/plain": [
       "['admin', 'config', 'local']"
      ]
     },
     "execution_count": 23,
     "metadata": {},
     "output_type": "execute_result"
    }
   ],
   "source": [
    "client.list_database_names()"
   ]
  },
  {
   "cell_type": "code",
   "execution_count": 49,
   "id": "c698a2c9",
   "metadata": {},
   "outputs": [],
   "source": [
    "db = client['dota_matches']"
   ]
  },
  {
   "cell_type": "code",
   "execution_count": 50,
   "id": "0a71a40c",
   "metadata": {},
   "outputs": [],
   "source": [
    "collection = db['matches']"
   ]
  },
  {
   "cell_type": "code",
   "execution_count": 51,
   "id": "1b1023c1",
   "metadata": {},
   "outputs": [
    {
     "data": {
      "text/plain": [
       "'match_id_1'"
      ]
     },
     "execution_count": 51,
     "metadata": {},
     "output_type": "execute_result"
    }
   ],
   "source": [
    "collection.create_index('match_id', unique=True)"
   ]
  },
  {
   "cell_type": "code",
   "execution_count": 53,
   "id": "8f0bdbc8",
   "metadata": {},
   "outputs": [
    {
     "data": {
      "text/plain": [
       "'fake_idx_1'"
      ]
     },
     "execution_count": 53,
     "metadata": {},
     "output_type": "execute_result"
    }
   ],
   "source": [
    "collection.create_index('fake_idx')"
   ]
  },
  {
   "cell_type": "code",
   "execution_count": 57,
   "id": "d492927a",
   "metadata": {},
   "outputs": [
    {
     "data": {
      "text/plain": [
       "{'_id_': {'v': 2, 'key': [('_id', 1)]},\n",
       " 'match_id_1': {'v': 2, 'key': [('match_id', 1)], 'unique': True}}"
      ]
     },
     "execution_count": 57,
     "metadata": {},
     "output_type": "execute_result"
    }
   ],
   "source": [
    "collection.index_information()"
   ]
  },
  {
   "cell_type": "code",
   "execution_count": 30,
   "id": "c6a0f6bd",
   "metadata": {},
   "outputs": [
    {
     "data": {
      "text/plain": [
       "[]"
      ]
     },
     "execution_count": 30,
     "metadata": {},
     "output_type": "execute_result"
    }
   ],
   "source": [
    "db.list_collection_names()"
   ]
  },
  {
   "cell_type": "code",
   "execution_count": 21,
   "id": "be1364bb",
   "metadata": {},
   "outputs": [],
   "source": [
    "client.close()"
   ]
  },
  {
   "cell_type": "code",
   "execution_count": null,
   "id": "17f3b036",
   "metadata": {},
   "outputs": [],
   "source": []
  },
  {
   "cell_type": "markdown",
   "id": "085d234d",
   "metadata": {},
   "source": [
    "## EDA\n",
    "cruising the landscape of some problem space"
   ]
  },
  {
   "cell_type": "code",
   "execution_count": 32,
   "id": "f440d8cd",
   "metadata": {},
   "outputs": [],
   "source": [
    "def prepare_sample_data(raw_data_path, N = 10):\n",
    "    fh = gzip.open(raw_data_path, mode = 'rt')\n",
    "    rows = []\n",
    "    counter = 0\n",
    "    while counter < N:\n",
    "        line = fh.readline()\n",
    "        if line != ',\\n' and line != '[\\n' and line != '\\n]':\n",
    "            counter += 1\n",
    "            parsed_line = json.loads(line)\n",
    "            \n",
    "            # TODO customize parsing\n",
    "            # right now load everything\n",
    "            rows.append(parsed_line)\n",
    "    return rows"
   ]
  },
  {
   "cell_type": "code",
   "execution_count": 59,
   "id": "3e4e394d",
   "metadata": {},
   "outputs": [],
   "source": [
    "fh = gzip.open(data_path, mode = 'rt')"
   ]
  },
  {
   "cell_type": "code",
   "execution_count": 33,
   "id": "73948fb7",
   "metadata": {
    "scrolled": true
   },
   "outputs": [],
   "source": [
    "rows = prepare_sample_data(data_path, N=5000)"
   ]
  },
  {
   "cell_type": "code",
   "execution_count": 34,
   "id": "a2f60cb1",
   "metadata": {},
   "outputs": [],
   "source": [
    "sample_df = pd.DataFrame(rows)"
   ]
  },
  {
   "cell_type": "code",
   "execution_count": 35,
   "id": "f8c559b5",
   "metadata": {},
   "outputs": [
    {
     "data": {
      "text/plain": [
       "(5000, 27)"
      ]
     },
     "execution_count": 35,
     "metadata": {},
     "output_type": "execute_result"
    }
   ],
   "source": [
    "sample_df.shape"
   ]
  },
  {
   "cell_type": "code",
   "execution_count": 36,
   "id": "096772e1",
   "metadata": {},
   "outputs": [
    {
     "data": {
      "text/html": [
       "<div>\n",
       "<style scoped>\n",
       "    .dataframe tbody tr th:only-of-type {\n",
       "        vertical-align: middle;\n",
       "    }\n",
       "\n",
       "    .dataframe tbody tr th {\n",
       "        vertical-align: top;\n",
       "    }\n",
       "\n",
       "    .dataframe thead th {\n",
       "        text-align: right;\n",
       "    }\n",
       "</style>\n",
       "<table border=\"1\" class=\"dataframe\">\n",
       "  <thead>\n",
       "    <tr style=\"text-align: right;\">\n",
       "      <th></th>\n",
       "      <th>match_id</th>\n",
       "      <th>match_seq_num</th>\n",
       "      <th>radiant_win</th>\n",
       "      <th>start_time</th>\n",
       "      <th>duration</th>\n",
       "      <th>tower_status_radiant</th>\n",
       "      <th>tower_status_dire</th>\n",
       "      <th>barracks_status_radiant</th>\n",
       "      <th>barracks_status_dire</th>\n",
       "      <th>cluster</th>\n",
       "      <th>...</th>\n",
       "      <th>engine</th>\n",
       "      <th>picks_bans</th>\n",
       "      <th>parse_status</th>\n",
       "      <th>chat</th>\n",
       "      <th>objectives</th>\n",
       "      <th>radiant_gold_adv</th>\n",
       "      <th>radiant_xp_adv</th>\n",
       "      <th>teamfights</th>\n",
       "      <th>version</th>\n",
       "      <th>players</th>\n",
       "    </tr>\n",
       "  </thead>\n",
       "  <tbody>\n",
       "    <tr>\n",
       "      <th>0</th>\n",
       "      <td>2001400694</td>\n",
       "      <td>1765192504</td>\n",
       "      <td>True</td>\n",
       "      <td>1450069239</td>\n",
       "      <td>898</td>\n",
       "      <td>2047</td>\n",
       "      <td>2046</td>\n",
       "      <td>63</td>\n",
       "      <td>63</td>\n",
       "      <td>121</td>\n",
       "      <td>...</td>\n",
       "      <td>1</td>\n",
       "      <td>None</td>\n",
       "      <td>2</td>\n",
       "      <td>[{'time': 289, 'type': 'chat', 'unit': 'DuckDy...</td>\n",
       "      <td>[{'time': 84, 'type': 'CHAT_MESSAGE_FIRSTBLOOD...</td>\n",
       "      <td>[0, 0, 0, 0, 0, 0, 0, 96, -670, -1041, -1289, ...</td>\n",
       "      <td>[0, 0, 0, 0, 0, 0, 0, 61, -664, -974, -837, -1...</td>\n",
       "      <td>[{'start': 363, 'end': 413, 'last_death': 398,...</td>\n",
       "      <td>15</td>\n",
       "      <td>[{'account_id': 124238143, 'player_slot': 0, '...</td>\n",
       "    </tr>\n",
       "    <tr>\n",
       "      <th>1</th>\n",
       "      <td>2001394362</td>\n",
       "      <td>1765193128</td>\n",
       "      <td>True</td>\n",
       "      <td>1450068932</td>\n",
       "      <td>1390</td>\n",
       "      <td>1983</td>\n",
       "      <td>256</td>\n",
       "      <td>63</td>\n",
       "      <td>48</td>\n",
       "      <td>122</td>\n",
       "      <td>...</td>\n",
       "      <td>1</td>\n",
       "      <td>None</td>\n",
       "      <td>2</td>\n",
       "      <td>[{'time': 1391, 'type': 'chat', 'unit': 'Vices...</td>\n",
       "      <td>[{'time': 2, 'type': 'CHAT_MESSAGE_FIRSTBLOOD'...</td>\n",
       "      <td>[0, 0, 0, 0, 0, 1471, 2122, 2255, 2559, 3135, ...</td>\n",
       "      <td>[0, 0, 0, 0, 0, 797, 1004, 893, 1087, 860, 132...</td>\n",
       "      <td>[{'start': -12, 'end': 28, 'last_death': 13, '...</td>\n",
       "      <td>15</td>\n",
       "      <td>[{'account_id': 67923911, 'player_slot': 0, 'h...</td>\n",
       "    </tr>\n",
       "    <tr>\n",
       "      <th>2</th>\n",
       "      <td>2001390473</td>\n",
       "      <td>1765190770</td>\n",
       "      <td>False</td>\n",
       "      <td>1450068753</td>\n",
       "      <td>1569</td>\n",
       "      <td>0</td>\n",
       "      <td>2047</td>\n",
       "      <td>0</td>\n",
       "      <td>63</td>\n",
       "      <td>111</td>\n",
       "      <td>...</td>\n",
       "      <td>1</td>\n",
       "      <td>None</td>\n",
       "      <td>2</td>\n",
       "      <td>[]</td>\n",
       "      <td>[{'time': 143, 'type': 'chat_event', 'subtype'...</td>\n",
       "      <td>[0, -226, -313, -927, -1070, -1470, -1923, -25...</td>\n",
       "      <td>[0, -192, -223, -640, -691, -878, -1188, -1709...</td>\n",
       "      <td>[{'start': 528, 'end': 574, 'last_death': 559,...</td>\n",
       "      <td>15</td>\n",
       "      <td>[{'account_id': None, 'player_slot': 0, 'hero_...</td>\n",
       "    </tr>\n",
       "    <tr>\n",
       "      <th>3</th>\n",
       "      <td>2001390318</td>\n",
       "      <td>1765192183</td>\n",
       "      <td>True</td>\n",
       "      <td>1450068725</td>\n",
       "      <td>1630</td>\n",
       "      <td>2047</td>\n",
       "      <td>256</td>\n",
       "      <td>63</td>\n",
       "      <td>48</td>\n",
       "      <td>122</td>\n",
       "      <td>...</td>\n",
       "      <td>1</td>\n",
       "      <td>None</td>\n",
       "      <td>2</td>\n",
       "      <td>[{'time': 1633, 'type': 'chat', 'unit': 'slipf...</td>\n",
       "      <td>[{'time': 2, 'type': 'CHAT_MESSAGE_FIRSTBLOOD'...</td>\n",
       "      <td>[0, 0, 0, 759, 991, 1815, 1996, 2629, 3975, 54...</td>\n",
       "      <td>[0, 0, 0, 443, 712, 1444, 1405, 2368, 2951, 46...</td>\n",
       "      <td>[{'start': 748, 'end': 807, 'last_death': 792,...</td>\n",
       "      <td>15</td>\n",
       "      <td>[{'account_id': 49697610, 'player_slot': 0, 'h...</td>\n",
       "    </tr>\n",
       "    <tr>\n",
       "      <th>4</th>\n",
       "      <td>2001389600</td>\n",
       "      <td>1765186247</td>\n",
       "      <td>True</td>\n",
       "      <td>1450068704</td>\n",
       "      <td>1093</td>\n",
       "      <td>2047</td>\n",
       "      <td>388</td>\n",
       "      <td>63</td>\n",
       "      <td>51</td>\n",
       "      <td>121</td>\n",
       "      <td>...</td>\n",
       "      <td>1</td>\n",
       "      <td>None</td>\n",
       "      <td>2</td>\n",
       "      <td>[{'time': 739, 'type': 'chat', 'unit': 'Coach ...</td>\n",
       "      <td>[{'time': 138, 'type': 'CHAT_MESSAGE_FIRSTBLOO...</td>\n",
       "      <td>[0, 0, 0, 0, 0, 0, 0, -53, 174, 586, 245, 834,...</td>\n",
       "      <td>[0, 0, 0, 0, 0, 0, 0, -208, -223, -440, -701, ...</td>\n",
       "      <td>[{'start': 539, 'end': 586, 'last_death': 571,...</td>\n",
       "      <td>15</td>\n",
       "      <td>[{'account_id': 37921758, 'player_slot': 0, 'h...</td>\n",
       "    </tr>\n",
       "  </tbody>\n",
       "</table>\n",
       "<p>5 rows × 27 columns</p>\n",
       "</div>"
      ],
      "text/plain": [
       "     match_id  match_seq_num  radiant_win  start_time  duration  \\\n",
       "0  2001400694     1765192504         True  1450069239       898   \n",
       "1  2001394362     1765193128         True  1450068932      1390   \n",
       "2  2001390473     1765190770        False  1450068753      1569   \n",
       "3  2001390318     1765192183         True  1450068725      1630   \n",
       "4  2001389600     1765186247         True  1450068704      1093   \n",
       "\n",
       "   tower_status_radiant  tower_status_dire  barracks_status_radiant  \\\n",
       "0                  2047               2046                       63   \n",
       "1                  1983                256                       63   \n",
       "2                     0               2047                        0   \n",
       "3                  2047                256                       63   \n",
       "4                  2047                388                       63   \n",
       "\n",
       "   barracks_status_dire  cluster  ...  engine  picks_bans  parse_status  \\\n",
       "0                    63      121  ...       1        None             2   \n",
       "1                    48      122  ...       1        None             2   \n",
       "2                    63      111  ...       1        None             2   \n",
       "3                    48      122  ...       1        None             2   \n",
       "4                    51      121  ...       1        None             2   \n",
       "\n",
       "                                                chat  \\\n",
       "0  [{'time': 289, 'type': 'chat', 'unit': 'DuckDy...   \n",
       "1  [{'time': 1391, 'type': 'chat', 'unit': 'Vices...   \n",
       "2                                                 []   \n",
       "3  [{'time': 1633, 'type': 'chat', 'unit': 'slipf...   \n",
       "4  [{'time': 739, 'type': 'chat', 'unit': 'Coach ...   \n",
       "\n",
       "                                          objectives  \\\n",
       "0  [{'time': 84, 'type': 'CHAT_MESSAGE_FIRSTBLOOD...   \n",
       "1  [{'time': 2, 'type': 'CHAT_MESSAGE_FIRSTBLOOD'...   \n",
       "2  [{'time': 143, 'type': 'chat_event', 'subtype'...   \n",
       "3  [{'time': 2, 'type': 'CHAT_MESSAGE_FIRSTBLOOD'...   \n",
       "4  [{'time': 138, 'type': 'CHAT_MESSAGE_FIRSTBLOO...   \n",
       "\n",
       "                                    radiant_gold_adv  \\\n",
       "0  [0, 0, 0, 0, 0, 0, 0, 96, -670, -1041, -1289, ...   \n",
       "1  [0, 0, 0, 0, 0, 1471, 2122, 2255, 2559, 3135, ...   \n",
       "2  [0, -226, -313, -927, -1070, -1470, -1923, -25...   \n",
       "3  [0, 0, 0, 759, 991, 1815, 1996, 2629, 3975, 54...   \n",
       "4  [0, 0, 0, 0, 0, 0, 0, -53, 174, 586, 245, 834,...   \n",
       "\n",
       "                                      radiant_xp_adv  \\\n",
       "0  [0, 0, 0, 0, 0, 0, 0, 61, -664, -974, -837, -1...   \n",
       "1  [0, 0, 0, 0, 0, 797, 1004, 893, 1087, 860, 132...   \n",
       "2  [0, -192, -223, -640, -691, -878, -1188, -1709...   \n",
       "3  [0, 0, 0, 443, 712, 1444, 1405, 2368, 2951, 46...   \n",
       "4  [0, 0, 0, 0, 0, 0, 0, -208, -223, -440, -701, ...   \n",
       "\n",
       "                                          teamfights version  \\\n",
       "0  [{'start': 363, 'end': 413, 'last_death': 398,...      15   \n",
       "1  [{'start': -12, 'end': 28, 'last_death': 13, '...      15   \n",
       "2  [{'start': 528, 'end': 574, 'last_death': 559,...      15   \n",
       "3  [{'start': 748, 'end': 807, 'last_death': 792,...      15   \n",
       "4  [{'start': 539, 'end': 586, 'last_death': 571,...      15   \n",
       "\n",
       "                                             players  \n",
       "0  [{'account_id': 124238143, 'player_slot': 0, '...  \n",
       "1  [{'account_id': 67923911, 'player_slot': 0, 'h...  \n",
       "2  [{'account_id': None, 'player_slot': 0, 'hero_...  \n",
       "3  [{'account_id': 49697610, 'player_slot': 0, 'h...  \n",
       "4  [{'account_id': 37921758, 'player_slot': 0, 'h...  \n",
       "\n",
       "[5 rows x 27 columns]"
      ]
     },
     "execution_count": 36,
     "metadata": {},
     "output_type": "execute_result"
    }
   ],
   "source": [
    "sample_df.head()"
   ]
  },
  {
   "cell_type": "code",
   "execution_count": 115,
   "id": "d5e92589",
   "metadata": {},
   "outputs": [
    {
     "data": {
      "text/plain": [
       "Index(['match_id', 'match_seq_num', 'radiant_win', 'start_time', 'duration',\n",
       "       'tower_status_radiant', 'tower_status_dire', 'barracks_status_radiant',\n",
       "       'barracks_status_dire', 'cluster', 'first_blood_time', 'lobby_type',\n",
       "       'human_players', 'leagueid', 'positive_votes', 'negative_votes',\n",
       "       'game_mode', 'engine', 'picks_bans', 'parse_status', 'chat',\n",
       "       'objectives', 'radiant_gold_adv', 'radiant_xp_adv', 'teamfights',\n",
       "       'version', 'players', 'chat_len'],\n",
       "      dtype='object')"
      ]
     },
     "execution_count": 115,
     "metadata": {},
     "output_type": "execute_result"
    }
   ],
   "source": [
    "sample_df.columns"
   ]
  },
  {
   "cell_type": "markdown",
   "id": "41f337ea",
   "metadata": {},
   "source": [
    "#### radiant vs dire overall winrate"
   ]
  },
  {
   "cell_type": "code",
   "execution_count": 28,
   "id": "be599c95",
   "metadata": {},
   "outputs": [],
   "source": [
    "radiant_wr = sample_df['radiant_win'].mean()\n",
    "dire_wr = 1-radiant_wr"
   ]
  },
  {
   "cell_type": "code",
   "execution_count": 40,
   "id": "85079606",
   "metadata": {},
   "outputs": [
    {
     "data": {
      "text/plain": [
       "<AxesSubplot:>"
      ]
     },
     "execution_count": 40,
     "metadata": {},
     "output_type": "execute_result"
    },
    {
     "data": {
      "image/png": "[encoded data removed]",
      "text/plain": [
       "<Figure size 432x288 with 1 Axes>"
      ]
     },
     "metadata": {
      "needs_background": "light"
     },
     "output_type": "display_data"
    }
   ],
   "source": [
    "sns.barplot(x = ['radiant winrate', 'dire winrate'], y=[radiant_wr, dire_wr])"
   ]
  },
  {
   "cell_type": "code",
   "execution_count": 126,
   "id": "a28f50b0",
   "metadata": {},
   "outputs": [
    {
     "data": {
      "text/html": [
       "<div>\n",
       "<style scoped>\n",
       "    .dataframe tbody tr th:only-of-type {\n",
       "        vertical-align: middle;\n",
       "    }\n",
       "\n",
       "    .dataframe tbody tr th {\n",
       "        vertical-align: top;\n",
       "    }\n",
       "\n",
       "    .dataframe thead th {\n",
       "        text-align: right;\n",
       "    }\n",
       "</style>\n",
       "<table border=\"1\" class=\"dataframe\">\n",
       "  <thead>\n",
       "    <tr style=\"text-align: right;\">\n",
       "      <th></th>\n",
       "      <th>duration</th>\n",
       "    </tr>\n",
       "    <tr>\n",
       "      <th>radiant_win</th>\n",
       "      <th></th>\n",
       "    </tr>\n",
       "  </thead>\n",
       "  <tbody>\n",
       "    <tr>\n",
       "      <th>False</th>\n",
       "      <td>2480.235246</td>\n",
       "    </tr>\n",
       "    <tr>\n",
       "      <th>True</th>\n",
       "      <td>2374.944509</td>\n",
       "    </tr>\n",
       "  </tbody>\n",
       "</table>\n",
       "</div>"
      ],
      "text/plain": [
       "                duration\n",
       "radiant_win             \n",
       "False        2480.235246\n",
       "True         2374.944509"
      ]
     },
     "execution_count": 126,
     "metadata": {},
     "output_type": "execute_result"
    }
   ],
   "source": [
    "sample_df[['radiant_win', 'duration']].groupby('radiant_win').mean()"
   ]
  },
  {
   "cell_type": "code",
   "execution_count": 43,
   "id": "a87e23cd",
   "metadata": {},
   "outputs": [],
   "source": [
    "sample_df['chat_len'] = sample_df['chat'].apply(lambda x: len(x))"
   ]
  },
  {
   "cell_type": "code",
   "execution_count": 44,
   "id": "321c3e84",
   "metadata": {},
   "outputs": [
    {
     "data": {
      "text/plain": [
       "<AxesSubplot:xlabel='chat_len', ylabel='Count'>"
      ]
     },
     "execution_count": 44,
     "metadata": {},
     "output_type": "execute_result"
    },
    {
     "data": {
      "image/png": "[encoded data removed]",
      "text/plain": [
       "<Figure size 432x288 with 1 Axes>"
      ]
     },
     "metadata": {
      "needs_background": "light"
     },
     "output_type": "display_data"
    }
   ],
   "source": [
    "sns.histplot(x = sample_df['chat_len'])"
   ]
  },
  {
   "cell_type": "markdown",
   "id": "0062d95a",
   "metadata": {},
   "source": [
    "There are people that talked in all chat for 100 sentences?!"
   ]
  },
  {
   "cell_type": "code",
   "execution_count": 108,
   "id": "985b6545",
   "metadata": {},
   "outputs": [],
   "source": [
    "sample_match = sample_df.loc[sample_df['chat_len'] > 200].iloc[0]"
   ]
  },
  {
   "cell_type": "code",
   "execution_count": 114,
   "id": "380357b2",
   "metadata": {},
   "outputs": [],
   "source": [
    "sample_chat_log = [entry['key'] for entry in (sample_match['chat'])]"
   ]
  },
  {
   "cell_type": "code",
   "execution_count": 69,
   "id": "0466a294",
   "metadata": {},
   "outputs": [
    {
     "name": "stdout",
     "output_type": "stream",
     "text": [
      ":3\n",
      "noob lycan\n",
      "lol?\n",
      "didnt kno u can take off nightmare\n",
      "iwh twolf\n"
     ]
    },
    {
     "data": {
      "text/plain": [
       "5"
      ]
     },
     "execution_count": 69,
     "metadata": {},
     "output_type": "execute_result"
    }
   ],
   "source": [
    "len([print(chat) for chat in sample_chat_log[:5]])"
   ]
  },
  {
   "cell_type": "code",
   "execution_count": 70,
   "id": "d2bddddc",
   "metadata": {},
   "outputs": [],
   "source": [
    "tfidf = TfidfVectorizer()"
   ]
  },
  {
   "cell_type": "code",
   "execution_count": 72,
   "id": "b2a88550",
   "metadata": {},
   "outputs": [],
   "source": [
    "tfidf_matrix = tfidf.fit_transform(sample_chat_log)"
   ]
  },
  {
   "cell_type": "code",
   "execution_count": 97,
   "id": "4cc0b3bf",
   "metadata": {},
   "outputs": [],
   "source": [
    "features = tfidf.get_feature_names()"
   ]
  },
  {
   "cell_type": "code",
   "execution_count": 95,
   "id": "fc03a498",
   "metadata": {},
   "outputs": [],
   "source": [
    "# eh it's a bit messy\n",
    "argmaxes = [e[0, 0] for e in np.argmax(tfidf_matrix, axis= 1)]"
   ]
  },
  {
   "cell_type": "code",
   "execution_count": 98,
   "id": "f97e13a2",
   "metadata": {},
   "outputs": [],
   "source": [
    "words = [features[arg] for arg in argmaxes]"
   ]
  },
  {
   "cell_type": "code",
   "execution_count": 105,
   "id": "a67f86b7",
   "metadata": {},
   "outputs": [],
   "source": [
    "words_freq = pd.Series(words).value_counts()"
   ]
  },
  {
   "cell_type": "code",
   "execution_count": 106,
   "id": "be4739f3",
   "metadata": {},
   "outputs": [],
   "source": [
    "cloud = WordCloud().generate_from_frequencies(words_freq)"
   ]
  },
  {
   "cell_type": "code",
   "execution_count": 107,
   "id": "93b75028",
   "metadata": {},
   "outputs": [
    {
     "data": {
      "text/plain": [
       "<matplotlib.image.AxesImage at 0x28f31d9e070>"
      ]
     },
     "execution_count": 107,
     "metadata": {},
     "output_type": "execute_result"
    },
    {
     "data": {
      "image/png": "[encoded data removed]",
      "text/plain": [
       "<Figure size 432x288 with 1 Axes>"
      ]
     },
     "metadata": {
      "needs_background": "light"
     },
     "output_type": "display_data"
    }
   ],
   "source": [
    "plt.imshow(cloud)"
   ]
  },
  {
   "cell_type": "code",
   "execution_count": null,
   "id": "0bc3a427",
   "metadata": {},
   "outputs": [],
   "source": []
  }
 ],
 "metadata": {
  "kernelspec": {
   "display_name": "Python 3",
   "language": "python",
   "name": "python3"
  },
  "language_info": {
   "codemirror_mode": {
    "name": "ipython",
    "version": 3
   },
   "file_extension": ".py",
   "mimetype": "text/x-python",
   "name": "python",
   "nbconvert_exporter": "python",
   "pygments_lexer": "ipython3",
   "version": "3.8.8"
  }
 },
 "nbformat": 4,
 "nbformat_minor": 5
}
