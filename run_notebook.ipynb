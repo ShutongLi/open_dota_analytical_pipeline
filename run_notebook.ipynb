{
 "cells": [
  {
   "cell_type": "code",
   "execution_count": 29,
   "id": "99502e1f",
   "metadata": {},
   "outputs": [
    {
     "name": "stdout",
     "output_type": "stream",
     "text": [
      "The autoreload extension is already loaded. To reload it, use:\n",
      "  %reload_ext autoreload\n"
     ]
    }
   ],
   "source": [
    "import pymongo\n",
    "from src.oltp_construction import *\n",
    "from src.olap_transformation import *\n",
    "import pandas as pd\n",
    "%load_ext autoreload\n",
    "%autoreload 2\n",
    "import json"
   ]
  },
  {
   "cell_type": "code",
   "execution_count": 13,
   "id": "215514cd",
   "metadata": {},
   "outputs": [],
   "source": [
    "# build_db()"
   ]
  },
  {
   "cell_type": "code",
   "execution_count": 14,
   "id": "b97f17d4",
   "metadata": {},
   "outputs": [],
   "source": [
    "client = pymongo.MongoClient()"
   ]
  },
  {
   "cell_type": "code",
   "execution_count": 15,
   "id": "01158067",
   "metadata": {},
   "outputs": [
    {
     "data": {
      "text/plain": [
       "['admin', 'config', 'dota', 'local', 'sakila']"
      ]
     },
     "execution_count": 15,
     "metadata": {},
     "output_type": "execute_result"
    }
   ],
   "source": [
    "client.list_database_names()"
   ]
  },
  {
   "cell_type": "code",
   "execution_count": 16,
   "id": "26a7486a",
   "metadata": {},
   "outputs": [],
   "source": [
    "db1 = client.get_database('dota')"
   ]
  },
  {
   "cell_type": "code",
   "execution_count": 17,
   "id": "23e0e50f",
   "metadata": {},
   "outputs": [],
   "source": [
    "collection1 = db1['matches']"
   ]
  },
  {
   "cell_type": "code",
   "execution_count": 18,
   "id": "79a7d431",
   "metadata": {},
   "outputs": [
    {
     "data": {
      "text/plain": [
       "500032"
      ]
     },
     "execution_count": 18,
     "metadata": {},
     "output_type": "execute_result"
    }
   ],
   "source": [
    "collection1.estimated_document_count()"
   ]
  },
  {
   "cell_type": "markdown",
   "id": "933867f0",
   "metadata": {},
   "source": [
    "project match statistics"
   ]
  },
  {
   "cell_type": "code",
   "execution_count": 20,
   "id": "51f68b29",
   "metadata": {
    "scrolled": true
   },
   "outputs": [
    {
     "name": "stdout",
     "output_type": "stream",
     "text": [
      "new document match_stat.csv created\n",
      "finished writing\n"
     ]
    },
    {
     "data": {
      "text/html": [
       "<div>\n",
       "<style scoped>\n",
       "    .dataframe tbody tr th:only-of-type {\n",
       "        vertical-align: middle;\n",
       "    }\n",
       "\n",
       "    .dataframe tbody tr th {\n",
       "        vertical-align: top;\n",
       "    }\n",
       "\n",
       "    .dataframe thead th {\n",
       "        text-align: right;\n",
       "    }\n",
       "</style>\n",
       "<table border=\"1\" class=\"dataframe\">\n",
       "  <thead>\n",
       "    <tr style=\"text-align: right;\">\n",
       "      <th></th>\n",
       "      <th>match_id</th>\n",
       "      <th>radiant_win</th>\n",
       "      <th>start_time</th>\n",
       "      <th>duration</th>\n",
       "      <th>tower_status_radiant</th>\n",
       "      <th>tower_status_dire</th>\n",
       "      <th>barracks_status_radiant</th>\n",
       "      <th>barracks_status_dire</th>\n",
       "      <th>first_blood_time</th>\n",
       "    </tr>\n",
       "  </thead>\n",
       "  <tbody>\n",
       "    <tr>\n",
       "      <th>0</th>\n",
       "      <td>2001400694</td>\n",
       "      <td>True</td>\n",
       "      <td>1450069239</td>\n",
       "      <td>898</td>\n",
       "      <td>2047</td>\n",
       "      <td>2046</td>\n",
       "      <td>63</td>\n",
       "      <td>63</td>\n",
       "      <td>83</td>\n",
       "    </tr>\n",
       "    <tr>\n",
       "      <th>1</th>\n",
       "      <td>2001394362</td>\n",
       "      <td>True</td>\n",
       "      <td>1450068932</td>\n",
       "      <td>1390</td>\n",
       "      <td>1983</td>\n",
       "      <td>256</td>\n",
       "      <td>63</td>\n",
       "      <td>48</td>\n",
       "      <td>2</td>\n",
       "    </tr>\n",
       "    <tr>\n",
       "      <th>2</th>\n",
       "      <td>2001390473</td>\n",
       "      <td>False</td>\n",
       "      <td>1450068753</td>\n",
       "      <td>1569</td>\n",
       "      <td>0</td>\n",
       "      <td>2047</td>\n",
       "      <td>0</td>\n",
       "      <td>63</td>\n",
       "      <td>143</td>\n",
       "    </tr>\n",
       "    <tr>\n",
       "      <th>3</th>\n",
       "      <td>2001390318</td>\n",
       "      <td>True</td>\n",
       "      <td>1450068725</td>\n",
       "      <td>1630</td>\n",
       "      <td>2047</td>\n",
       "      <td>256</td>\n",
       "      <td>63</td>\n",
       "      <td>48</td>\n",
       "      <td>1</td>\n",
       "    </tr>\n",
       "    <tr>\n",
       "      <th>4</th>\n",
       "      <td>2001389600</td>\n",
       "      <td>True</td>\n",
       "      <td>1450068704</td>\n",
       "      <td>1093</td>\n",
       "      <td>2047</td>\n",
       "      <td>388</td>\n",
       "      <td>63</td>\n",
       "      <td>51</td>\n",
       "      <td>138</td>\n",
       "    </tr>\n",
       "  </tbody>\n",
       "</table>\n",
       "</div>"
      ],
      "text/plain": [
       "     match_id  radiant_win  start_time  duration  tower_status_radiant  \\\n",
       "0  2001400694         True  1450069239       898                  2047   \n",
       "1  2001394362         True  1450068932      1390                  1983   \n",
       "2  2001390473        False  1450068753      1569                     0   \n",
       "3  2001390318         True  1450068725      1630                  2047   \n",
       "4  2001389600         True  1450068704      1093                  2047   \n",
       "\n",
       "   tower_status_dire  barracks_status_radiant  barracks_status_dire  \\\n",
       "0               2046                       63                    63   \n",
       "1                256                       63                    48   \n",
       "2               2047                        0                    63   \n",
       "3                256                       63                    48   \n",
       "4                388                       63                    51   \n",
       "\n",
       "   first_blood_time  \n",
       "0                83  \n",
       "1                 2  \n",
       "2               143  \n",
       "3                 1  \n",
       "4               138  "
      ]
     },
     "metadata": {},
     "output_type": "display_data"
    }
   ],
   "source": [
    "subset_match_stat(client, lmt = 5000)"
   ]
  },
  {
   "cell_type": "code",
   "execution_count": 9,
   "id": "0c333a9d",
   "metadata": {},
   "outputs": [
    {
     "name": "stdout",
     "output_type": "stream",
     "text": [
      "new document chat.csv created\n",
      "finished writing\n"
     ]
    },
    {
     "data": {
      "text/html": [
       "<div>\n",
       "<style scoped>\n",
       "    .dataframe tbody tr th:only-of-type {\n",
       "        vertical-align: middle;\n",
       "    }\n",
       "\n",
       "    .dataframe tbody tr th {\n",
       "        vertical-align: top;\n",
       "    }\n",
       "\n",
       "    .dataframe thead th {\n",
       "        text-align: right;\n",
       "    }\n",
       "</style>\n",
       "<table border=\"1\" class=\"dataframe\">\n",
       "  <thead>\n",
       "    <tr style=\"text-align: right;\">\n",
       "      <th></th>\n",
       "      <th>match_id</th>\n",
       "      <th>start_time</th>\n",
       "      <th>time</th>\n",
       "      <th>key</th>\n",
       "    </tr>\n",
       "  </thead>\n",
       "  <tbody>\n",
       "    <tr>\n",
       "      <th>0</th>\n",
       "      <td>2001400694</td>\n",
       "      <td>1450069239</td>\n",
       "      <td>289</td>\n",
       "      <td>EZ</td>\n",
       "    </tr>\n",
       "    <tr>\n",
       "      <th>1</th>\n",
       "      <td>2001400694</td>\n",
       "      <td>1450069239</td>\n",
       "      <td>872</td>\n",
       "      <td>: (</td>\n",
       "    </tr>\n",
       "    <tr>\n",
       "      <th>2</th>\n",
       "      <td>2001400694</td>\n",
       "      <td>1450069239</td>\n",
       "      <td>891</td>\n",
       "      <td>fuck my team</td>\n",
       "    </tr>\n",
       "    <tr>\n",
       "      <th>3</th>\n",
       "      <td>2001394362</td>\n",
       "      <td>1450068932</td>\n",
       "      <td>1391</td>\n",
       "      <td>gg</td>\n",
       "    </tr>\n",
       "    <tr>\n",
       "      <th>4</th>\n",
       "      <td>2001394362</td>\n",
       "      <td>1450068932</td>\n",
       "      <td>1391</td>\n",
       "      <td>gg</td>\n",
       "    </tr>\n",
       "  </tbody>\n",
       "</table>\n",
       "</div>"
      ],
      "text/plain": [
       "     match_id  start_time  time           key\n",
       "0  2001400694  1450069239   289            EZ\n",
       "1  2001400694  1450069239   872           : (\n",
       "2  2001400694  1450069239   891  fuck my team\n",
       "3  2001394362  1450068932  1391            gg\n",
       "4  2001394362  1450068932  1391            gg"
      ]
     },
     "metadata": {},
     "output_type": "display_data"
    }
   ],
   "source": [
    "subset_chat(client, lmt = 5000)"
   ]
  },
  {
   "cell_type": "code",
   "execution_count": 28,
   "id": "5fa8e044",
   "metadata": {},
   "outputs": [
    {
     "name": "stdout",
     "output_type": "stream",
     "text": [
      "new document hero_performance.csv created\n"
     ]
    },
    {
     "data": {
      "text/html": [
       "<div>\n",
       "<style scoped>\n",
       "    .dataframe tbody tr th:only-of-type {\n",
       "        vertical-align: middle;\n",
       "    }\n",
       "\n",
       "    .dataframe tbody tr th {\n",
       "        vertical-align: top;\n",
       "    }\n",
       "\n",
       "    .dataframe thead th {\n",
       "        text-align: right;\n",
       "    }\n",
       "</style>\n",
       "<table border=\"1\" class=\"dataframe\">\n",
       "  <thead>\n",
       "    <tr style=\"text-align: right;\">\n",
       "      <th></th>\n",
       "      <th>hero_id</th>\n",
       "      <th>match_result</th>\n",
       "    </tr>\n",
       "  </thead>\n",
       "  <tbody>\n",
       "    <tr>\n",
       "      <th>0</th>\n",
       "      <td>106</td>\n",
       "      <td>w</td>\n",
       "    </tr>\n",
       "    <tr>\n",
       "      <th>1</th>\n",
       "      <td>36</td>\n",
       "      <td>w</td>\n",
       "    </tr>\n",
       "    <tr>\n",
       "      <th>2</th>\n",
       "      <td>42</td>\n",
       "      <td>w</td>\n",
       "    </tr>\n",
       "    <tr>\n",
       "      <th>3</th>\n",
       "      <td>20</td>\n",
       "      <td>w</td>\n",
       "    </tr>\n",
       "    <tr>\n",
       "      <th>4</th>\n",
       "      <td>28</td>\n",
       "      <td>w</td>\n",
       "    </tr>\n",
       "  </tbody>\n",
       "</table>\n",
       "</div>"
      ],
      "text/plain": [
       "   hero_id match_result\n",
       "0      106            w\n",
       "1       36            w\n",
       "2       42            w\n",
       "3       20            w\n",
       "4       28            w"
      ]
     },
     "metadata": {},
     "output_type": "display_data"
    }
   ],
   "source": [
    "record_hero_performance(client, lmt=5000)"
   ]
  },
  {
   "cell_type": "code",
   "execution_count": 30,
   "id": "6eb0e035",
   "metadata": {},
   "outputs": [],
   "source": [
    "heroes_fp = 'data/raw/heroes.json'"
   ]
  },
  {
   "cell_type": "code",
   "execution_count": 36,
   "id": "4b3d8fa3",
   "metadata": {},
   "outputs": [],
   "source": [
    "pd.DataFrame(json.load(open(heroes_fp))['heroes'])[['id', 'localized_name']].to_csv('data/processed/hero_id_name.csv')"
   ]
  },
  {
   "cell_type": "code",
   "execution_count": null,
   "id": "28803df5",
   "metadata": {},
   "outputs": [],
   "source": []
  }
 ],
 "metadata": {
  "kernelspec": {
   "display_name": "Python 3",
   "language": "python",
   "name": "python3"
  },
  "language_info": {
   "codemirror_mode": {
    "name": "ipython",
    "version": 3
   },
   "file_extension": ".py",
   "mimetype": "text/x-python",
   "name": "python",
   "nbconvert_exporter": "python",
   "pygments_lexer": "ipython3",
   "version": "3.8.8"
  }
 },
 "nbformat": 4,
 "nbformat_minor": 5
}
